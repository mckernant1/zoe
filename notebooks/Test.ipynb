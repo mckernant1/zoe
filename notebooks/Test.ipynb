{
 "cells": [
  {
   "cell_type": "code",
   "execution_count": 20,
   "metadata": {},
   "outputs": [
    {
     "data": {
      "text/html": [
       "   <div id=\"OZQbGj\"></div>\n",
       "   <script type=\"text/javascript\" data-lets-plot-script=\"library\">\n",
       "       if(!window.letsPlotCallQueue) {\n",
       "           window.letsPlotCallQueue = [];\n",
       "       }; \n",
       "       window.letsPlotCall = function(f) {\n",
       "           window.letsPlotCallQueue.push(f);\n",
       "       };\n",
       "       (function() {\n",
       "           var script = document.createElement(\"script\");\n",
       "           script.type = \"text/javascript\";\n",
       "           script.src = \"https://dl.bintray.com/jetbrains/lets-plot/lets-plot-2.0.1.min.js\";\n",
       "           script.onload = function() {\n",
       "               window.letsPlotCall = function(f) {f();};\n",
       "               window.letsPlotCallQueue.forEach(function(f) {f();});\n",
       "               window.letsPlotCallQueue = [];\n",
       "               \n",
       "               \n",
       "           };\n",
       "           script.onerror = function(event) {\n",
       "               window.letsPlotCall = function(f) {};\n",
       "               window.letsPlotCallQueue = [];\n",
       "               var div = document.createElement(\"div\");\n",
       "               div.style.color = 'darkred';\n",
       "               div.textContent = 'Error loading Lets-Plot JS';\n",
       "               document.getElementById(\"OZQbGj\").appendChild(div);\n",
       "           };\n",
       "           var e = document.getElementById(\"OZQbGj\");\n",
       "           e.appendChild(script);\n",
       "       })();\n",
       "   </script>"
      ]
     },
     "metadata": {},
     "output_type": "display_data"
    }
   ],
   "source": [
    "@file:DependsOn(\"com.github.mckernant1:lol-esports-api-wrapper:0.1.20\")\n",
    "%use lets-plot, krangl"
   ]
  },
  {
   "cell_type": "code",
   "execution_count": 21,
   "metadata": {},
   "outputs": [],
   "source": [
    "import kotlinx.serialization.encodeToString\n",
    "import kotlinx.serialization.json.Json\n",
    "import krangl.DataFrame\n",
    "import krangl.fromJsonString\n",
    "import com.github.mckernant1.lol.heimerdinger.team.Team\n",
    "\n",
    "fun List<Team>.toDataFrame(): DataFrame {\n",
    "    return DataFrame.fromJsonString(Json.encodeToString(this))\n",
    "}"
   ]
  },
  {
   "cell_type": "code",
   "execution_count": 22,
   "metadata": {},
   "outputs": [],
   "source": [
    "import com.github.mckernant1.lol.heimerdinger.team.TeamClient\n",
    "\n",
    "val teamClient = TeamClient()"
   ]
  },
  {
   "cell_type": "code",
   "execution_count": 23,
   "metadata": {},
   "outputs": [
    {
     "data": {
      "text/html": [
       "<html><body><table><tr><th style=\"text-align:left\">teamId</th><th style=\"text-align:left\">slug</th><th style=\"text-align:left\">name</th><th style=\"text-align:left\">code</th><th style=\"text-align:left\">homeLeagueCode</th><th style=\"text-align:left\">players</th></tr><tr><td style=\"text-align:left\" title=\"100205573001435494\">100205573001435494</td><td style=\"text-align:left\" title=\"pentagram\">pentagram</td><td style=\"text-align:left\" title=\"PENTAGRAM\">PENTAGRAM</td><td style=\"text-align:left\" title=\"PGM\">PGM</td><td style=\"text-align:left\" title=\"LJL\">LJL</td><td style=\"text-align:left\" title=\"JsonArray(value=[id,summonerName,firstName,lastName,role,image, id,summonerName,firstName,lastName,role,image, id,summonerName,firstName,lastName,role,image, id,summonerName,firstName,lastName,role,image, id,summonerName,firstName,lastName,role,image, id,summonerName,firstName,lastName,role,image])\">JsonArray(value=[id,summonerName,firstName,last...</td></tr><tr><td style=\"text-align:left\" title=\"100205573002983994\">100205573002983994</td><td style=\"text-align:left\" title=\"evos-esports\">evos-esports</td><td style=\"text-align:left\" title=\"EVOS Esports\">EVOS Esports</td><td style=\"text-align:left\" title=\"EVS\">EVS</td><td style=\"text-align:left\" title=\"N/A\">N/A</td><td style=\"text-align:left\" title=\"JsonArray(value=[id,summonerName,firstName,lastName,role,image, id,summonerName,firstName,lastName,role,image, id,summonerName,firstName,lastName,role,image, id,summonerName,firstName,lastName,role,image, id,summonerName,firstName,lastName,role,image, id,summonerName,firstName,lastName,role,image, id,summonerName,firstName,lastName,role,image, id,summonerName,firstName,lastName,role,image])\">JsonArray(value=[id,summonerName,firstName,last...</td></tr><tr><td style=\"text-align:left\" title=\"100205573004554238\">100205573004554238</td><td style=\"text-align:left\" title=\"ascension-gaming\">ascension-gaming</td><td style=\"text-align:left\" title=\"Ascension Gaming\">Ascension Gaming</td><td style=\"text-align:left\" title=\"ASC\">ASC</td><td style=\"text-align:left\" title=\"N/A\">N/A</td><td style=\"text-align:left\" title=\"JsonArray(value=[id,summonerName,firstName,lastName,role,image, id,summonerName,firstName,lastName,role,image, id,summonerName,firstName,lastName,role,image])\">JsonArray(value=[id,summonerName,firstName,last...</td></tr><tr><td style=\"text-align:left\" title=\"100205573495116443\">100205573495116443</td><td style=\"text-align:left\" title=\"geng\">geng</td><td style=\"text-align:left\" title=\"Gen.G\">Gen.G</td><td style=\"text-align:left\" title=\"GEN\">GEN</td><td style=\"text-align:left\" title=\"LCK\">LCK</td><td style=\"text-align:left\" title=\"JsonArray(value=[id,summonerName,firstName,lastName,role,image, id,summonerName,firstName,lastName,role,image, id,summonerName,firstName,lastName,role,image, id,summonerName,firstName,lastName,role,image, id,summonerName,firstName,lastName,role,image, id,summonerName,firstName,lastName,role,image, id,summonerName,firstName,lastName,role,image, id,summonerName,firstName,lastName,role,image, id,summonerName,firstName,lastName,role,image, id,summonerName,firstName,lastName,role,image, id,summonerName,firstName,lastName,role,image, id,summonerName,firstName,lastName,role,image, id,summonerName,firstName,lastName,role,image, id,summonerName,firstName,lastName,role,image])\">JsonArray(value=[id,summonerName,firstName,last...</td></tr><tr><td style=\"text-align:left\" title=\"100205573496804586\">100205573496804586</td><td style=\"text-align:left\" title=\"hanwha-life-esports\">hanwha-life-esports</td><td style=\"text-align:left\" title=\"Hanwha Life Esports\">Hanwha Life Esports</td><td style=\"text-align:left\" title=\"HLE\">HLE</td><td style=\"text-align:left\" title=\"LCK\">LCK</td><td style=\"text-align:left\" title=\"JsonArray(value=[id,summonerName,firstName,lastName,role,image, id,summonerName,firstName,lastName,role,image, id,summonerName,firstName,lastName,role,image, id,summonerName,firstName,lastName,role,image, id,summonerName,firstName,lastName,role,image, id,summonerName,firstName,lastName,role,image, id,summonerName,firstName,lastName,role,image, id,summonerName,firstName,lastName,role,image, id,summonerName,firstName,lastName,role,image, id,summonerName,firstName,lastName,role,image, id,summonerName,firstName,lastName,role,image, id,summonerName,firstName,lastName,role,image])\">JsonArray(value=[id,summonerName,firstName,last...</td></tr></table></body></html>"
      ]
     },
     "execution_count": 23,
     "metadata": {},
     "output_type": "execute_result"
    }
   ],
   "source": [
    "\n",
    "val teams = teamClient.getAllTeams()\n",
    "\n",
    "val df = teams.toDataFrame()\n",
    "\n",
    "df.head()\n"
   ]
  },
  {
   "cell_type": "code",
   "execution_count": null,
   "metadata": {},
   "outputs": [],
   "source": []
  }
 ],
 "metadata": {
  "kernelspec": {
   "display_name": "Kotlin",
   "language": "kotlin",
   "name": "kotlin"
  },
  "language_info": {
   "codemirror_mode": "text/x-kotlin",
   "file_extension": ".kt",
   "mimetype": "text/x-kotlin",
   "name": "kotlin",
   "nbconvert_exporter": "",
   "pygments_lexer": "kotlin",
   "version": "1.5.20-dev-4184"
  }
 },
 "nbformat": 4,
 "nbformat_minor": 4
}
